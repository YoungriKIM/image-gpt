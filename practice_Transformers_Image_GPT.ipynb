{
  "nbformat": 4,
  "nbformat_minor": 0,
  "metadata": {
    "colab": {
      "name": "Transformers_Image-GPT.ipynb",
      "provenance": [],
      "collapsed_sections": [],
      "toc_visible": true,
      "include_colab_link": true
    },
    "kernelspec": {
      "name": "python3",
      "display_name": "Python 3"
    },
    "accelerator": "GPU"
  },
  "cells": [
    {
      "cell_type": "markdown",
      "metadata": {
        "id": "view-in-github",
        "colab_type": "text"
      },
      "source": [
        "<a href=\"https://colab.research.google.com/github/YoungriKIM/image-gpt/blob/master/practice_Transformers_Image_GPT.ipynb\" target=\"_parent\"><img src=\"https://colab.research.google.com/assets/colab-badge.svg\" alt=\"Open In Colab\"/></a>"
      ]
    },
    {
      "cell_type": "markdown",
      "metadata": {
        "id": "P9tObiU-qVgv"
      },
      "source": [
        "#Run Image GPT with [Transformers](https://github.com/huggingface/transformers)\n",
        "by [Alfredo Peguero](https://twitter.com/alfredompeguero)"
      ]
    },
    {
      "cell_type": "markdown",
      "metadata": {
        "id": "OoWYiUzT_lLs"
      },
      "source": [
        "# Download Image GPT"
      ]
    },
    {
      "cell_type": "code",
      "metadata": {
        "id": "WkPOYJsCTaUb",
        "colab": {
          "base_uri": "https://localhost:8080/"
        },
        "outputId": "9ab4b867-db47-4c3f-92f8-b770dab0a8cc"
      },
      "source": [
        "!git clone https://github.com/openai/image-gpt.git"
      ],
      "execution_count": null,
      "outputs": [
        {
          "output_type": "stream",
          "text": [
            "Cloning into 'image-gpt'...\n",
            "remote: Enumerating objects: 47, done.\u001b[K\n",
            "remote: Counting objects: 100% (6/6), done.\u001b[K\n",
            "remote: Compressing objects: 100% (4/4), done.\u001b[K\n",
            "remote: Total 47 (delta 2), reused 6 (delta 2), pack-reused 41\u001b[K\n",
            "Unpacking objects: 100% (47/47), done.\n"
          ],
          "name": "stdout"
        }
      ]
    },
    {
      "cell_type": "code",
      "metadata": {
        "id": "e0DcaUYv8LYf"
      },
      "source": [
        "model_sizes = [\"s\", \"m\", \"l\"] #small medium large, xl not available\n",
        "model_size = \"s\"\n",
        "models_dir = \"/content/models\"\n",
        "color_clusters_dir = \"/content/clusters\"\n",
        "bs = 8 \n",
        "n_px = 32"
      ],
      "execution_count": null,
      "outputs": []
    },
    {
      "cell_type": "code",
      "metadata": {
        "id": "ylcjIJcwXsFw",
        "colab": {
          "base_uri": "https://localhost:8080/"
        },
        "outputId": "5df3524a-6983-45aa-9366-2780b081fead"
      },
      "source": [
        "!python image-gpt/download.py --model {model_size} --ckpt 1000000 --clusters --download_dir {models_dir}/{model_size}\n",
        "!python image-gpt/download.py --clusters --download_dir {color_clusters_dir}"
      ],
      "execution_count": null,
      "outputs": [
        {
          "output_type": "stream",
          "text": [
            "input args:\n",
            " {\n",
            "    \"download_dir\":\"/content/models/s\",\n",
            "    \"bert\":false,\n",
            "    \"model\":\"s\",\n",
            "    \"ckpt\":\"1000000\",\n",
            "    \"clusters\":true,\n",
            "    \"dataset\":null\n",
            "}\n",
            "Fetching model.ckpt-1000000.data-00000-of-00032: 1.00kit [00:00, 897kit/s]      \n",
            "Fetching model.ckpt-1000000.data-00001-of-00032: 31.5Mit [00:05, 5.33Mit/s]\n",
            "Fetching model.ckpt-1000000.data-00002-of-00032: 28.3Mit [00:05, 4.75Mit/s]     \n",
            "Fetching model.ckpt-1000000.data-00003-of-00032: 28.3Mit [00:01, 20.8Mit/s]     \n",
            "Fetching model.ckpt-1000000.data-00004-of-00032: 28.3Mit [00:01, 15.5Mit/s]     \n",
            "Fetching model.ckpt-1000000.data-00005-of-00032: 31.5Mit [00:01, 16.9Mit/s]     \n",
            "Fetching model.ckpt-1000000.data-00006-of-00032: 30.4Mit [00:04, 6.96Mit/s]     \n",
            "Fetching model.ckpt-1000000.data-00007-of-00032: 28.3Mit [00:03, 7.28Mit/s]     \n",
            "Fetching model.ckpt-1000000.data-00008-of-00032: 31.5Mit [00:05, 5.74Mit/s]     \n",
            "Fetching model.ckpt-1000000.data-00009-of-00032: 29.4Mit [00:01, 19.8Mit/s]     \n",
            "Fetching model.ckpt-1000000.data-00010-of-00032: 31.5Mit [00:01, 20.4Mit/s]     \n",
            "Fetching model.ckpt-1000000.data-00011-of-00032: 31.5Mit [00:05, 5.99Mit/s]     \n",
            "Fetching model.ckpt-1000000.data-00012-of-00032: 30.4Mit [00:01, 20.7Mit/s]     \n",
            "Fetching model.ckpt-1000000.data-00013-of-00032: 28.3Mit [00:06, 4.30Mit/s]     \n",
            "Fetching model.ckpt-1000000.data-00014-of-00032: 31.5Mit [00:06, 5.11Mit/s]     \n",
            "Fetching model.ckpt-1000000.data-00015-of-00032: 32.5Mit [00:02, 15.3Mit/s]     \n",
            "Fetching model.ckpt-1000000.data-00016-of-00032: 31.5Mit [00:06, 4.63Mit/s]     \n",
            "Fetching model.ckpt-1000000.data-00017-of-00032: 28.3Mit [00:04, 6.52Mit/s]     \n",
            "Fetching model.ckpt-1000000.data-00018-of-00032: 29.4Mit [00:04, 6.46Mit/s]     \n",
            "Fetching model.ckpt-1000000.data-00019-of-00032: 28.3Mit [00:04, 6.56Mit/s]     \n",
            "Fetching model.ckpt-1000000.data-00020-of-00032: 28.3Mit [00:05, 5.26Mit/s]     \n",
            "Fetching model.ckpt-1000000.data-00021-of-00032: 28.3Mit [00:06, 4.29Mit/s]     \n",
            "Fetching model.ckpt-1000000.data-00022-of-00032: 30.4Mit [00:01, 19.7Mit/s]     \n",
            "Fetching model.ckpt-1000000.data-00023-of-00032: 30.4Mit [00:03, 9.78Mit/s]     \n",
            "Fetching model.ckpt-1000000.data-00024-of-00032: 29.4Mit [00:02, 11.0Mit/s]     \n",
            "Fetching model.ckpt-1000000.data-00025-of-00032: 28.3Mit [00:01, 16.1Mit/s]     \n",
            "Fetching model.ckpt-1000000.data-00026-of-00032: 28.3Mit [00:02, 11.2Mit/s]     \n",
            "Fetching model.ckpt-1000000.data-00027-of-00032: 29.4Mit [00:01, 21.5Mit/s]     \n",
            "Fetching model.ckpt-1000000.data-00028-of-00032: 29.4Mit [00:01, 19.3Mit/s]     \n",
            "Fetching model.ckpt-1000000.data-00029-of-00032: 29.4Mit [00:01, 14.8Mit/s]     \n",
            "Fetching model.ckpt-1000000.data-00030-of-00032: 28.3Mit [00:04, 6.68Mit/s]     \n",
            "Fetching model.ckpt-1000000.data-00031-of-00032: 28.3Mit [00:03, 7.18Mit/s]     \n",
            "Fetching model.ckpt-1000000.index: 10.0kit [00:00, 7.56Mit/s]                   \n",
            "Fetching model.ckpt-1000000.meta: 18.4Mit [00:01, 16.4Mit/s]                    \n",
            "Fetching kmeans_centers.npy: 7.00kit [00:00, 5.76Mit/s]                         \n",
            "input args:\n",
            " {\n",
            "    \"download_dir\":\"/content/clusters\",\n",
            "    \"bert\":false,\n",
            "    \"model\":null,\n",
            "    \"ckpt\":null,\n",
            "    \"clusters\":true,\n",
            "    \"dataset\":null\n",
            "}\n",
            "Fetching kmeans_centers.npy: 7.00kit [00:00, 5.43Mit/s]                         \n"
          ],
          "name": "stdout"
        }
      ]
    },
    {
      "cell_type": "markdown",
      "metadata": {
        "id": "UjVa2W5f-6BB"
      },
      "source": [
        "# Subclass GPT2LMHeadModel\n"
      ]
    },
    {
      "cell_type": "code",
      "metadata": {
        "id": "eoImkBA2d5jT",
        "colab": {
          "base_uri": "https://localhost:8080/"
        },
        "outputId": "a09712d0-b2d8-4799-f69f-304691f36bc0"
      },
      "source": [
        "!pip install transformers"
      ],
      "execution_count": null,
      "outputs": [
        {
          "output_type": "stream",
          "text": [
            "Collecting transformers\n",
            "\u001b[?25l  Downloading https://files.pythonhosted.org/packages/d5/43/cfe4ee779bbd6a678ac6a97c5a5cdeb03c35f9eaebbb9720b036680f9a2d/transformers-4.6.1-py3-none-any.whl (2.2MB)\n",
            "\u001b[K     |████████████████████████████████| 2.3MB 7.7MB/s \n",
            "\u001b[?25hRequirement already satisfied: requests in /usr/local/lib/python3.7/dist-packages (from transformers) (2.23.0)\n",
            "Requirement already satisfied: numpy>=1.17 in /usr/local/lib/python3.7/dist-packages (from transformers) (1.19.5)\n",
            "Requirement already satisfied: importlib-metadata; python_version < \"3.8\" in /usr/local/lib/python3.7/dist-packages (from transformers) (4.0.1)\n",
            "Requirement already satisfied: filelock in /usr/local/lib/python3.7/dist-packages (from transformers) (3.0.12)\n",
            "Collecting tokenizers<0.11,>=0.10.1\n",
            "\u001b[?25l  Downloading https://files.pythonhosted.org/packages/d4/e2/df3543e8ffdab68f5acc73f613de9c2b155ac47f162e725dcac87c521c11/tokenizers-0.10.3-cp37-cp37m-manylinux_2_5_x86_64.manylinux1_x86_64.manylinux_2_12_x86_64.manylinux2010_x86_64.whl (3.3MB)\n",
            "\u001b[K     |████████████████████████████████| 3.3MB 46.8MB/s \n",
            "\u001b[?25hCollecting huggingface-hub==0.0.8\n",
            "  Downloading https://files.pythonhosted.org/packages/a1/88/7b1e45720ecf59c6c6737ff332f41c955963090a18e72acbcbeac6b25e86/huggingface_hub-0.0.8-py3-none-any.whl\n",
            "Requirement already satisfied: packaging in /usr/local/lib/python3.7/dist-packages (from transformers) (20.9)\n",
            "Requirement already satisfied: tqdm>=4.27 in /usr/local/lib/python3.7/dist-packages (from transformers) (4.41.1)\n",
            "Collecting sacremoses\n",
            "\u001b[?25l  Downloading https://files.pythonhosted.org/packages/75/ee/67241dc87f266093c533a2d4d3d69438e57d7a90abb216fa076e7d475d4a/sacremoses-0.0.45-py3-none-any.whl (895kB)\n",
            "\u001b[K     |████████████████████████████████| 901kB 52.2MB/s \n",
            "\u001b[?25hRequirement already satisfied: regex!=2019.12.17 in /usr/local/lib/python3.7/dist-packages (from transformers) (2019.12.20)\n",
            "Requirement already satisfied: idna<3,>=2.5 in /usr/local/lib/python3.7/dist-packages (from requests->transformers) (2.10)\n",
            "Requirement already satisfied: certifi>=2017.4.17 in /usr/local/lib/python3.7/dist-packages (from requests->transformers) (2020.12.5)\n",
            "Requirement already satisfied: chardet<4,>=3.0.2 in /usr/local/lib/python3.7/dist-packages (from requests->transformers) (3.0.4)\n",
            "Requirement already satisfied: urllib3!=1.25.0,!=1.25.1,<1.26,>=1.21.1 in /usr/local/lib/python3.7/dist-packages (from requests->transformers) (1.24.3)\n",
            "Requirement already satisfied: typing-extensions>=3.6.4; python_version < \"3.8\" in /usr/local/lib/python3.7/dist-packages (from importlib-metadata; python_version < \"3.8\"->transformers) (3.7.4.3)\n",
            "Requirement already satisfied: zipp>=0.5 in /usr/local/lib/python3.7/dist-packages (from importlib-metadata; python_version < \"3.8\"->transformers) (3.4.1)\n",
            "Requirement already satisfied: pyparsing>=2.0.2 in /usr/local/lib/python3.7/dist-packages (from packaging->transformers) (2.4.7)\n",
            "Requirement already satisfied: click in /usr/local/lib/python3.7/dist-packages (from sacremoses->transformers) (7.1.2)\n",
            "Requirement already satisfied: six in /usr/local/lib/python3.7/dist-packages (from sacremoses->transformers) (1.15.0)\n",
            "Requirement already satisfied: joblib in /usr/local/lib/python3.7/dist-packages (from sacremoses->transformers) (1.0.1)\n",
            "Installing collected packages: tokenizers, huggingface-hub, sacremoses, transformers\n",
            "Successfully installed huggingface-hub-0.0.8 sacremoses-0.0.45 tokenizers-0.10.3 transformers-4.6.1\n"
          ],
          "name": "stdout"
        }
      ]
    },
    {
      "cell_type": "code",
      "metadata": {
        "id": "soYP5NE_KPZn"
      },
      "source": [
        "import os\n",
        "import transformers\n",
        "from transformers.models.gpt2.modeling_gpt2 import GPT2Model,GPT2LMHeadModel\n",
        "import torch\n",
        "import torch.nn as nn\n",
        "import logging\n",
        "logger = logging.getLogger(__name__)\n",
        "\n",
        "def load_tf_weights_in_image_gpt2(model, config, gpt2_checkpoint_path):\n",
        "    \"\"\" Load tf checkpoints in a pytorch model\n",
        "    \"\"\"\n",
        "    try:\n",
        "        import re\n",
        "        import tensorflow as tf\n",
        "    except ImportError:\n",
        "        logger.error(\n",
        "            \"Loading a TensorFlow model in PyTorch, requires TensorFlow to be installed. Please see \"\n",
        "            \"https://www.tensorflow.org/install/ for installation instructions.\"\n",
        "        )\n",
        "        raise\n",
        "    tf_path = os.path.abspath(gpt2_checkpoint_path)\n",
        "    logger.info(\"Converting TensorFlow checkpoint from {}\".format(tf_path))\n",
        "    # Load weights from TF model\n",
        "    init_vars = tf.train.list_variables(tf_path)\n",
        "    names = []\n",
        "    arrays = []\n",
        "\n",
        "    for name, shape in init_vars:\n",
        "        logger.info(\"Loading TF weight {} with shape {}\".format(name, shape))\n",
        "        array = tf.train.load_variable(tf_path, name)\n",
        "        names.append(name)\n",
        "        arrays.append(array.squeeze())\n",
        "\n",
        "    for name, array in zip(names, arrays):\n",
        "        name = name[6:]  # skip \"model/\"\n",
        "        name = name.split(\"/\")\n",
        "\n",
        "        # adam_v and adam_m are variables used in AdamWeightDecayOptimizer to calculated m and v\n",
        "        # which are not required for using pretrained model\n",
        "        if any(\n",
        "            n in [\"adam_v\", \"adam_m\", \"AdamWeightDecayOptimizer\", \"AdamWeightDecayOptimizer_1\", \"global_step\"]\n",
        "            for n in name\n",
        "        ) or name[-1] in ['_step']:\n",
        "            logger.info(\"Skipping {}\".format(\"/\".join(name)))\n",
        "            continue\n",
        "        \n",
        "        pointer = model\n",
        "        if name[-1] not in [\"wtet\"]:\n",
        "          pointer = getattr(pointer, \"transformer\")\n",
        "        \n",
        "        for m_name in name:\n",
        "            if re.fullmatch(r\"[A-Za-z]+\\d+\", m_name):\n",
        "                scope_names = re.split(r\"(\\d+)\", m_name)\n",
        "            else:\n",
        "                scope_names = [m_name]\n",
        "\n",
        "            if scope_names[0] == \"w\" or scope_names[0] == \"g\":\n",
        "                pointer = getattr(pointer, \"weight\")\n",
        "            elif scope_names[0] == \"b\":\n",
        "                pointer = getattr(pointer, \"bias\")\n",
        "            elif scope_names[0] == \"wpe\" or scope_names[0] == \"wte\":\n",
        "                pointer = getattr(pointer, scope_names[0])\n",
        "                pointer = getattr(pointer, \"weight\")\n",
        "            elif scope_names[0] in ['q_proj','k_proj','v_proj']:\n",
        "                pointer = getattr(pointer, 'c_attn')\n",
        "                pointer = getattr(pointer, 'weight')\n",
        "            elif len(name) ==3 and name[1]==\"attn\" and scope_names[0]==\"c_proj\":\n",
        "                pointer = getattr(pointer, scope_names[0])\n",
        "                pointer = getattr(pointer, 'weight')\n",
        "            elif scope_names[0]==\"wtet\":\n",
        "                pointer = getattr(pointer, \"lm_head\")\n",
        "                pointer = getattr(pointer, 'weight')\n",
        "            elif scope_names[0]==\"sos\":\n",
        "                pointer = getattr(pointer,\"wte\")\n",
        "                pointer = getattr(pointer, 'weight')\n",
        "            else:\n",
        "                pointer = getattr(pointer, scope_names[0])\n",
        "            if len(scope_names) >= 2:\n",
        "                num = int(scope_names[1])\n",
        "                pointer = pointer[num]\n",
        "\n",
        "        if len(name) > 1 and name[1]==\"attn\" or name[-1]==\"wtet\" or name[-1]==\"sos\" or name[-1]==\"wte\":\n",
        "           pass #array is used to initialize only part of the pointer so sizes won't match\n",
        "        else:\n",
        "          try:\n",
        "              assert pointer.shape == array.shape\n",
        "          except AssertionError as e:\n",
        "              e.args += (pointer.shape, array.shape)\n",
        "              raise\n",
        "          \n",
        "        logger.info(\"Initialize PyTorch weight {}\".format(name))\n",
        "\n",
        "        if name[-1]==\"q_proj\":\n",
        "          pointer.data[:,:config.n_embd] = torch.from_numpy(array.reshape(config.n_embd,config.n_embd) ).T\n",
        "        elif name[-1]==\"k_proj\":\n",
        "          pointer.data[:,config.n_embd:2*config.n_embd] = torch.from_numpy(array.reshape(config.n_embd,config.n_embd) ).T\n",
        "        elif name[-1]==\"v_proj\":\n",
        "          pointer.data[:,2*config.n_embd:] = torch.from_numpy(array.reshape(config.n_embd,config.n_embd) ).T\n",
        "        elif (len(name) ==3 and name[1]==\"attn\" and name[2]==\"c_proj\" ):\n",
        "          pointer.data = torch.from_numpy(array.reshape(config.n_embd,config.n_embd) )\n",
        "        elif name[-1]==\"wtet\":\n",
        "          pointer.data = torch.from_numpy(array)\n",
        "        elif name[-1]==\"wte\":\n",
        "          pointer.data[:config.vocab_size-1,:] = torch.from_numpy(array)\n",
        "        elif name[-1]==\"sos\":\n",
        "          pointer.data[-1] = torch.from_numpy(array)\n",
        "        else:\n",
        "          pointer.data = torch.from_numpy(array)\n",
        "\n",
        "    return model\n",
        "\n",
        "\n",
        "from torch.nn.parameter import Parameter\n",
        "class ln_mod(nn.Module):\n",
        "    def __init__(self, nx,eps=1e-5):\n",
        "        super().__init__()\n",
        "        self.eps = eps\n",
        "        self.weight = Parameter(torch.Tensor(nx))\n",
        "    def forward(self,x):#input is not mean centered\n",
        "        return x / torch.sqrt( torch.std(x,axis=-1,unbiased=False,keepdim=True)**2 + self.eps ) * self.weight.data[...,:] \n",
        "\n",
        "def replace_ln(m, name,config):\n",
        "  for attr_str in dir(m):\n",
        "      target_attr = getattr(m, attr_str)\n",
        "      if type(target_attr) == torch.nn.LayerNorm:\n",
        "          #print('replaced: ', name, attr_str)\n",
        "          setattr(m, attr_str, ln_mod(config.n_embd,config.layer_norm_epsilon))\n",
        "\n",
        "  for n, ch in m.named_children():\n",
        "      replace_ln(ch, n,config)        \n",
        "\n",
        "def gelu2(x):\n",
        "    return x * torch.sigmoid(1.702 * x)\n",
        "\n",
        "class ImageGPT2LMHeadModel(GPT2LMHeadModel):\n",
        "  load_tf_weights = load_tf_weights_in_image_gpt2\n",
        "  \n",
        "  def __init__(self, config):\n",
        "      super().__init__(config)\n",
        "      self.lm_head = nn.Linear(config.n_embd, config.vocab_size - 1, bias=False)\n",
        "      replace_ln(self,\"net\",config) #replace layer normalization\n",
        "      for n in range(config.n_layer):\n",
        "        self.transformer.h[n].mlp.act = gelu2 #replace activation \n",
        "\n",
        "  def tie_weights(self): #image-gpt doesn't tie output and input embeddings\n",
        "    pass "
      ],
      "execution_count": null,
      "outputs": []
    },
    {
      "cell_type": "markdown",
      "metadata": {
        "id": "_orA2jylbTXp"
      },
      "source": [
        "# Unconditional Image Generation"
      ]
    },
    {
      "cell_type": "code",
      "metadata": {
        "id": "SxJvFFK8gqJA"
      },
      "source": [
        "import numpy as np\n",
        "color_clusters_file = \"%s/kmeans_centers.npy\"%(color_clusters_dir)\n",
        "clusters = np.load(color_clusters_file) #get color clusters"
      ],
      "execution_count": null,
      "outputs": []
    },
    {
      "cell_type": "code",
      "metadata": {
        "id": "q00XounhcEIR"
      },
      "source": [
        "MODELS={\"l\":(1536,16,48),\"m\":(1024,8,36),\"s\":(512,8,24) } \n",
        "n_embd,n_head,n_layer=MODELS[model_size] #set model hyperparameters\n",
        "vocab_size = len(clusters) + 1 #add one for start of sentence token\n",
        "config = transformers.GPT2Config(vocab_size=vocab_size,n_ctx=n_px*n_px,n_positions=n_px*n_px,n_embd=n_embd,n_layer=n_layer,n_head=n_head)\n",
        "model_path = \"%s/%s/model.ckpt-1000000.index\"%(models_dir,model_size)\n",
        "\n",
        "model = ImageGPT2LMHeadModel.from_pretrained(model_path,from_tf=True,config=config).cuda()"
      ],
      "execution_count": null,
      "outputs": []
    },
    {
      "cell_type": "code",
      "metadata": {
        "id": "PJBT0ZIgGJKo",
        "colab": {
          "base_uri": "https://localhost:8080/"
        },
        "outputId": "26aa79c2-c20f-4dd1-9a46-801f6eed53a0"
      },
      "source": [
        "context = np.full( (bs,1), vocab_size - 1 ) #initialize with SOS token\n",
        "context = torch.tensor(context).cuda()\n",
        "output = model.generate(input_ids=context,max_length= n_px*n_px + 1,temperature=1.0,do_sample=True,top_k=40)"
      ],
      "execution_count": null,
      "outputs": [
        {
          "output_type": "stream",
          "text": [
            "Setting `pad_token_id` to `eos_token_id`:50256 for open-end generation.\n"
          ],
          "name": "stderr"
        }
      ]
    },
    {
      "cell_type": "code",
      "metadata": {
        "id": "drMf9MZCmf6m",
        "colab": {
          "base_uri": "https://localhost:8080/",
          "height": 135
        },
        "outputId": "f14e9f5b-17d7-4e52-e777-616279860d4f"
      },
      "source": [
        "#visualize samples with Image-GPT color palette.\n",
        "%matplotlib inline\n",
        "import pathlib\n",
        "import matplotlib.pyplot as plt\n",
        "import matplotlib.image as mpimg\n",
        "\n",
        "samples = output[:,1:].cpu().detach().numpy()\n",
        "samples_img = [np.reshape(np.rint(127.5 * (clusters[s] + 1.0)), [n_px, n_px, 3]).astype(np.uint8) for s in samples] # convert color cluster tokens back to pixels\n",
        "f, axes = plt.subplots(1,bs,dpi=300)\n",
        "\n",
        "for img,ax in zip(samples_img,axes):\n",
        "    ax.axis('off')\n",
        "    ax.imshow(img)\n",
        "    "
      ],
      "execution_count": null,
      "outputs": [
        {
          "output_type": "display_data",
          "data": {
            "image/png": "[encoded data removed]",
            "text/plain": [
              "<Figure size 1800x1200 with 8 Axes>"
            ]
          },
          "metadata": {
            "tags": [],
            "needs_background": "light"
          }
        }
      ]
    },
    {
      "cell_type": "markdown",
      "metadata": {
        "id": "u7xe3DCnXKG9"
      },
      "source": [
        "# Tokenize Cropped Images for Image Completion"
      ]
    },
    {
      "cell_type": "code",
      "metadata": {
        "id": "iZYMwQWgXKG_"
      },
      "source": [
        "#numpy implementation of functions in image-gpt/src/utils which convert pixels of image to nearest color cluster. \n",
        "def normalize_img(img):\n",
        "  return img/127.5 - 1\n",
        "\n",
        "def squared_euclidean_distance_np(a,b):\n",
        "  b = b.T\n",
        "  a2 = np.sum(np.square(a),axis=1)\n",
        "  b2 = np.sum(np.square(b),axis=0)\n",
        "  ab = np.matmul(a,b)\n",
        "  d = a2[:,None] - 2*ab + b2[None,:]\n",
        "  return d\n",
        "\n",
        "def color_quantize_np(x, clusters):\n",
        "    x = x.reshape(-1, 3)\n",
        "    d = squared_euclidean_distance_np(x, clusters)\n",
        "    return np.argmin(d,axis=1)"
      ],
      "execution_count": null,
      "outputs": []
    },
    {
      "cell_type": "code",
      "metadata": {
        "id": "iAYXA8w_XKHC",
        "colab": {
          "base_uri": "https://localhost:8080/"
        },
        "outputId": "487c10bd-5aa0-4577-8a01-804da6ed37cf"
      },
      "source": [
        "#get images\n",
        "!curl https://i.imgur.com/fIiwqyn.jpeg > sg.jpeg\n",
        "image_paths = [\"sg.jpeg\"]*bs"
      ],
      "execution_count": null,
      "outputs": [
        {
          "output_type": "stream",
          "text": [
            "  % Total    % Received % Xferd  Average Speed   Time    Time     Time  Current\n",
            "                                 Dload  Upload   Total   Spent    Left  Speed\n",
            "\r  0     0    0     0    0     0      0      0 --:--:-- --:--:-- --:--:--     0\r 20  746k   20  153k    0     0  1845k      0 --:--:-- --:--:-- --:--:-- 1823k\r100  746k  100  746k    0     0  7613k      0 --:--:-- --:--:-- --:--:-- 7536k\n"
          ],
          "name": "stdout"
        }
      ]
    },
    {
      "cell_type": "code",
      "metadata": {
        "id": "L4RmFF79XKHF"
      },
      "source": [
        "#Resize original images to n_px by n_px\n",
        "import cv2\n",
        "import numpy as np\n",
        "dim=(n_px,n_px)\n",
        "\n",
        "x = np.zeros((bs,n_px,n_px,3),dtype=np.uint8)\n",
        "\n",
        "for n,image_path in enumerate(image_paths):\n",
        "  img_np = cv2.imread(image_path)   # reads an image in the BGR format\n",
        "  img_np = cv2.cvtColor(img_np, cv2.COLOR_BGR2RGB)   # BGR -> RGB\n",
        "  H,W,C = img_np.shape\n",
        "  D = min(H,W)\n",
        "  img_np = img_np[:D,:D,:C] #get square piece of image\n",
        "  x[n] = cv2.resize(img_np,dim, interpolation = cv2.INTER_AREA) #resize to n_px by n_px\n",
        "  "
      ],
      "execution_count": null,
      "outputs": []
    },
    {
      "cell_type": "code",
      "metadata": {
        "id": "-hinQ-KtXKHP",
        "colab": {
          "base_uri": "https://localhost:8080/",
          "height": 135
        },
        "outputId": "233cd281-337a-4c9d-e273-08c0ed4ff93a"
      },
      "source": [
        "#visualize resized images\n",
        "f, axes = plt.subplots(1,bs,dpi=300)\n",
        "\n",
        "for img,ax in zip(x,axes):\n",
        "    ax.axis('off')\n",
        "    ax.imshow(img)"
      ],
      "execution_count": null,
      "outputs": [
        {
          "output_type": "display_data",
          "data": {
            "image/png": "[encoded data removed]",
            "text/plain": [
              "<Figure size 1800x1200 with 8 Axes>"
            ]
          },
          "metadata": {
            "tags": [],
            "needs_background": "light"
          }
        }
      ]
    },
    {
      "cell_type": "code",
      "metadata": {
        "id": "4AuPUbLlXKHR"
      },
      "source": [
        "#use Image-GPT color palette and crop images\n",
        "x_norm = normalize_img(x) #normalize pixels values to -1 to +1\n",
        "samples = color_quantize_np(x_norm,clusters).reshape(x_norm.shape[:-1]) #map pixels to closest color cluster\n",
        "\n",
        "n_px_crop = 16\n",
        "primers = samples.reshape(-1,n_px*n_px)[:,:n_px_crop*n_px] # crop top n_px_crop rows. These will be the conditioning tokens"
      ],
      "execution_count": null,
      "outputs": []
    },
    {
      "cell_type": "code",
      "metadata": {
        "id": "SggQqpPaXKHT",
        "colab": {
          "base_uri": "https://localhost:8080/",
          "height": 211
        },
        "outputId": "1006a333-f998-4ccf-fe52-899ab9eb00e2"
      },
      "source": [
        "#visualize samples and crops with Image-GPT color palette. Should look similar to original resized images\n",
        "samples_img = [np.reshape(np.rint(127.5 * (clusters[s] + 1.0)), [n_px, n_px, 3]).astype(np.uint8) for s in samples] # convert color clusters back to pixels\n",
        "primers_img = [np.reshape(np.rint(127.5 * (clusters[s] + 1.0)), [n_px_crop,n_px, 3]).astype(np.uint8) for s in primers] # convert color clusters back to pixels\n",
        "\n",
        "\n",
        "f, axes = plt.subplots(1,bs,dpi=300)\n",
        "for img,ax in zip(samples_img,axes):\n",
        "    ax.axis('off')\n",
        "    ax.imshow(img)\n",
        "\n",
        "f, axes2 = plt.subplots(1,bs,dpi=300)\n",
        "for img,ax in zip(primers_img,axes2):\n",
        "    ax.axis('off')\n",
        "    ax.imshow(img)"
      ],
      "execution_count": null,
      "outputs": [
        {
          "output_type": "display_data",
          "data": {
            "image/png": "[encoded data removed]",
            "text/plain": [
              "<Figure size 1800x1200 with 8 Axes>"
            ]
          },
          "metadata": {
            "tags": [],
            "needs_background": "light"
          }
        },
        {
          "output_type": "display_data",
          "data": {
            "image/png": "[encoded data removed]",
            "text/plain": [
              "<Figure size 1800x1200 with 8 Axes>"
            ]
          },
          "metadata": {
            "tags": [],
            "needs_background": "light"
          }
        }
      ]
    },
    {
      "cell_type": "markdown",
      "metadata": {
        "id": "-0ksgzgxXk1F"
      },
      "source": [
        "# Conditional Image Completion"
      ]
    },
    {
      "cell_type": "code",
      "metadata": {
        "id": "ySPBUloCXw3p",
        "colab": {
          "base_uri": "https://localhost:8080/"
        },
        "outputId": "2922c377-3dcf-4b8a-8330-048b3aaffd37"
      },
      "source": [
        "context = np.concatenate( (np.full( (bs,1), vocab_size - 1 ),primers,), axis=1 )\n",
        "context = torch.tensor(context).cuda()\n",
        "output = model.generate(input_ids=context,max_length= n_px*n_px + 1,temperature=1.0,do_sample=True,top_k=40)"
      ],
      "execution_count": null,
      "outputs": [
        {
          "output_type": "stream",
          "text": [
            "Setting `pad_token_id` to `eos_token_id`:50256 for open-end generation.\n"
          ],
          "name": "stderr"
        }
      ]
    },
    {
      "cell_type": "code",
      "metadata": {
        "id": "EF8FKNJZXw3s",
        "colab": {
          "base_uri": "https://localhost:8080/",
          "height": 135
        },
        "outputId": "fa219080-e6bf-4dee-a5b4-05918e3ceefb"
      },
      "source": [
        "#visualize samples with Image-GPT color palette. \n",
        "\n",
        "samples = output[:,1:].cpu().detach().numpy()\n",
        "samples_img = [np.reshape(np.rint(127.5 * (clusters[s] + 1.0)), [n_px, n_px, 3]).astype(np.uint8) for s in samples] # convert color cluster tokens back to pixels\n",
        "f, axes = plt.subplots(1,bs,dpi=300)\n",
        "\n",
        "for img,ax in zip(samples_img,axes):\n",
        "    ax.axis('off')\n",
        "    ax.imshow(img)\n",
        "    "
      ],
      "execution_count": null,
      "outputs": [
        {
          "output_type": "display_data",
          "data": {
            "image/png": "[encoded data removed]",
            "text/plain": [
              "<Figure size 1800x1200 with 8 Axes>"
            ]
          },
          "metadata": {
            "tags": [],
            "needs_background": "light"
          }
        }
      ]
    }
  ]
}